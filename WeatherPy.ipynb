{
 "cells": [
  {
   "cell_type": "code",
   "execution_count": 1,
   "source": [
    "# import dependencies\r\n",
    "import pandas as pd\r\n",
    "import matplotlib.pyplot as plt\r\n",
    "import numpy as np"
   ],
   "outputs": [],
   "metadata": {}
  },
  {
   "cell_type": "code",
   "execution_count": 2,
   "source": [
    "# Create a set of random latitudes and longitudes\r\n",
    "lats = np.random.uniform(-90, 90, size=1500)\r\n",
    "lngs = np.random.uniform(-180, 180, size=1500)\r\n",
    "lat_lngs = zip(lats, lngs)\r\n",
    "lat_lngs"
   ],
   "outputs": [
    {
     "output_type": "execute_result",
     "data": {
      "text/plain": [
       "<zip at 0x13f47ab8480>"
      ]
     },
     "metadata": {},
     "execution_count": 2
    }
   ],
   "metadata": {}
  },
  {
   "cell_type": "code",
   "execution_count": 3,
   "source": [
    "# Add the lats and lngs to a list\r\n",
    "coords = list(lat_lngs)"
   ],
   "outputs": [],
   "metadata": {}
  },
  {
   "cell_type": "code",
   "execution_count": null,
   "source": [
    "# Use the citipy module to determine city based on lat and lng\r\n",
    "from citipy import citipy"
   ],
   "outputs": [],
   "metadata": {}
  }
 ],
 "metadata": {
  "orig_nbformat": 4,
  "language_info": {
   "name": "python",
   "version": "3.9.6",
   "mimetype": "text/x-python",
   "codemirror_mode": {
    "name": "ipython",
    "version": 3
   },
   "pygments_lexer": "ipython3",
   "nbconvert_exporter": "python",
   "file_extension": ".py"
  },
  "kernelspec": {
   "name": "python3",
   "display_name": "Python 3.9.6 64-bit ('PythonMaster': conda)"
  },
  "interpreter": {
   "hash": "8e4c2eecffc4f9cadb15c2b121d59bc479b317acb70154dd7982f16e35836098"
  }
 },
 "nbformat": 4,
 "nbformat_minor": 2
}