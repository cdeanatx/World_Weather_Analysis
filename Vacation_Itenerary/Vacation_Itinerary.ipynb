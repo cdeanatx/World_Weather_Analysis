{
 "cells": [
  {
   "cell_type": "markdown",
   "source": [
    "## Deliverable 3. Create a Travel Itinerary Map."
   ],
   "metadata": {}
  },
  {
   "cell_type": "code",
   "execution_count": 4,
   "source": [
    "# Dependencies and Setup\r\n",
    "import pandas as pd\r\n",
    "import requests\r\n",
    "import gmaps\r\n",
    "import sys\r\n",
    "\r\n",
    "# Import API key\r\n",
    "sys.path.append('../')\r\n",
    "from config import g_key\r\n",
    "\r\n",
    "# Configure gmaps\r\n",
    "gmaps.configure(api_key=g_key)"
   ],
   "outputs": [],
   "metadata": {}
  },
  {
   "cell_type": "code",
   "execution_count": 6,
   "source": [
    "# 1. Read the WeatherPy_vacation.csv into a DataFrame.\r\n",
    "vacation_df = pd.read_csv(\"../Vacation_Search/WeatherPy_vacation.csv\")\r\n",
    "vacation_df.head()"
   ],
   "outputs": [
    {
     "output_type": "execute_result",
     "data": {
      "text/html": [
       "<div>\n",
       "<style scoped>\n",
       "    .dataframe tbody tr th:only-of-type {\n",
       "        vertical-align: middle;\n",
       "    }\n",
       "\n",
       "    .dataframe tbody tr th {\n",
       "        vertical-align: top;\n",
       "    }\n",
       "\n",
       "    .dataframe thead th {\n",
       "        text-align: right;\n",
       "    }\n",
       "</style>\n",
       "<table border=\"1\" class=\"dataframe\">\n",
       "  <thead>\n",
       "    <tr style=\"text-align: right;\">\n",
       "      <th></th>\n",
       "      <th>City_ID</th>\n",
       "      <th>City</th>\n",
       "      <th>Country</th>\n",
       "      <th>Max Temp</th>\n",
       "      <th>Current Description</th>\n",
       "      <th>Lat</th>\n",
       "      <th>Lng</th>\n",
       "      <th>Hotel Name</th>\n",
       "    </tr>\n",
       "  </thead>\n",
       "  <tbody>\n",
       "    <tr>\n",
       "      <th>0</th>\n",
       "      <td>3</td>\n",
       "      <td>nabire</td>\n",
       "      <td>ID</td>\n",
       "      <td>74.30</td>\n",
       "      <td>light rain</td>\n",
       "      <td>-3.3667</td>\n",
       "      <td>135.4833</td>\n",
       "      <td>Hotel Nusantara Nabire</td>\n",
       "    </tr>\n",
       "    <tr>\n",
       "      <th>1</th>\n",
       "      <td>11</td>\n",
       "      <td>jamestown</td>\n",
       "      <td>US</td>\n",
       "      <td>75.02</td>\n",
       "      <td>clear sky</td>\n",
       "      <td>42.0970</td>\n",
       "      <td>-79.2353</td>\n",
       "      <td>Hampton Inn &amp; Suites Jamestown</td>\n",
       "    </tr>\n",
       "    <tr>\n",
       "      <th>2</th>\n",
       "      <td>14</td>\n",
       "      <td>avarua</td>\n",
       "      <td>CK</td>\n",
       "      <td>78.85</td>\n",
       "      <td>few clouds</td>\n",
       "      <td>-21.2078</td>\n",
       "      <td>-159.7750</td>\n",
       "      <td>Paradise Inn</td>\n",
       "    </tr>\n",
       "    <tr>\n",
       "      <th>3</th>\n",
       "      <td>16</td>\n",
       "      <td>rikitea</td>\n",
       "      <td>PF</td>\n",
       "      <td>73.89</td>\n",
       "      <td>few clouds</td>\n",
       "      <td>-23.1203</td>\n",
       "      <td>-134.9692</td>\n",
       "      <td>People ThankYou</td>\n",
       "    </tr>\n",
       "    <tr>\n",
       "      <th>4</th>\n",
       "      <td>21</td>\n",
       "      <td>vaini</td>\n",
       "      <td>TO</td>\n",
       "      <td>75.36</td>\n",
       "      <td>light rain</td>\n",
       "      <td>-21.2000</td>\n",
       "      <td>-175.2000</td>\n",
       "      <td>Keleti Beach Resort</td>\n",
       "    </tr>\n",
       "  </tbody>\n",
       "</table>\n",
       "</div>"
      ],
      "text/plain": [
       "   City_ID       City Country  Max Temp Current Description      Lat  \\\n",
       "0        3     nabire      ID     74.30          light rain  -3.3667   \n",
       "1       11  jamestown      US     75.02           clear sky  42.0970   \n",
       "2       14     avarua      CK     78.85          few clouds -21.2078   \n",
       "3       16    rikitea      PF     73.89          few clouds -23.1203   \n",
       "4       21      vaini      TO     75.36          light rain -21.2000   \n",
       "\n",
       "        Lng                      Hotel Name  \n",
       "0  135.4833          Hotel Nusantara Nabire  \n",
       "1  -79.2353  Hampton Inn & Suites Jamestown  \n",
       "2 -159.7750                    Paradise Inn  \n",
       "3 -134.9692                 People ThankYou  \n",
       "4 -175.2000             Keleti Beach Resort  "
      ]
     },
     "metadata": {},
     "execution_count": 6
    }
   ],
   "metadata": {}
  },
  {
   "cell_type": "code",
   "execution_count": 12,
   "source": [
    "# 2. Using the template add the city name, the country code, the weather description and maximum temperature for the city.\r\n",
    "info_box_template = \"\"\"\r\n",
    "<dl>\r\n",
    "<dt>City</dt><dd>{City}</dd>\r\n",
    "<dt>Country</dt><dd>{Country}</dd>\r\n",
    "<dt>Current Description</dt><dd>{Current Description}</dd>\r\n",
    "<dt>Max Temp</dt><dd>{Max Temp} °F</dd>\r\n",
    "</dl>\r\n",
    "\"\"\"\r\n",
    "\r\n",
    "# 3a. Get the data from each row and add it to the formatting template and store the data in a list.\r\n",
    "hotel_info = [info_box_template.format(**row) for index, row in vacation_df.iterrows()]\r\n",
    "\r\n",
    "# 3b. Get the latitude and longitude from each row and store in a new DataFrame.\r\n",
    "locations = vacation_df[[\"Lat\", \"Lng\"]]"
   ],
   "outputs": [],
   "metadata": {}
  },
  {
   "cell_type": "code",
   "execution_count": 13,
   "source": [
    "# 4a. Add a marker layer for each city to the map.\r\n",
    "fig = gmaps.figure(center=(20.0, 31.0), zoom_level=2.0, layout={'height': '700px', 'width': '1100px'})\r\n",
    "marker_layer = gmaps.marker_layer(locations, info_box_content=hotel_info)\r\n",
    "fig.add_layer(marker_layer)\r\n",
    "# 4b. Display the figure\r\n",
    "fig\r\n"
   ],
   "outputs": [
    {
     "output_type": "display_data",
     "data": {
      "application/vnd.jupyter.widget-view+json": {
       "version_major": 2,
       "version_minor": 0,
       "model_id": "eff226913cc24c1a89701bf191d6f3df"
      },
      "text/plain": [
       "Figure(layout=FigureLayout(height='700px', width='1100px'))"
      ]
     },
     "metadata": {}
    }
   ],
   "metadata": {}
  },
  {
   "cell_type": "code",
   "execution_count": 19,
   "source": [
    "# From the map above pick 4 cities and create a vacation itinerary route to travel between the four cities. \r\n",
    "# 5. Create DataFrames for each city by filtering the 'vacation_df' using the loc method. \r\n",
    "# Hint: The starting and ending city should be the same city.\r\n",
    "\r\n",
    "vacation_start = vacation_df.loc[vacation_df['City'] == 'linhares']\r\n",
    "vacation_stop1 = vacation_df.loc[vacation_df['City'] == 'vila velha']\r\n",
    "vacation_stop2 = vacation_df.loc[vacation_df['City'] == 'sao joao da barra'] \r\n",
    "vacation_stop3 = vacation_df.loc[vacation_df['City'] == 'arraial do cabo']\r\n",
    "vacation_end = vacation_start.copy()"
   ],
   "outputs": [],
   "metadata": {}
  },
  {
   "cell_type": "code",
   "execution_count": 44,
   "source": [
    "# 6. Get the latitude-longitude pairs as tuples from each city DataFrame using the to_numpy function and list indexing.\r\n",
    "start = None\r\n",
    "end = None\r\n",
    "stop1 = None\r\n",
    "stop2 = None\r\n",
    "stop3 = None\r\n",
    "start"
   ],
   "outputs": [
    {
     "output_type": "execute_result",
     "data": {
      "text/plain": [
       "array([[-19.3911, -40.0722]])"
      ]
     },
     "metadata": {},
     "execution_count": 44
    }
   ],
   "metadata": {}
  },
  {
   "cell_type": "code",
   "execution_count": 7,
   "source": [
    "# 7. Create a direction layer map using the start and end latitude-longitude pairs,\r\n",
    "# and stop1, stop2, and stop3 as the waypoints. The travel_mode should be \"DRIVING\", \"BICYCLING\", or \"WALKING\".\r\n",
    "\r\n"
   ],
   "outputs": [],
   "metadata": {
    "scrolled": true
   }
  },
  {
   "cell_type": "code",
   "execution_count": 8,
   "source": [
    "# 8. To create a marker layer map between the four cities.\r\n",
    "#  Combine the four city DataFrames into one DataFrame using the concat() function.\r\n",
    "itinerary_df = pd.concat([],ignore_index=True)\r\n",
    "itinerary_df"
   ],
   "outputs": [],
   "metadata": {}
  },
  {
   "cell_type": "code",
   "execution_count": 9,
   "source": [
    "# 9 Using the template add city name, the country code, the weather description and maximum temperature for the city. \r\n",
    "info_box_template = \"\"\"\r\n",
    "\r\n",
    "\"\"\"\r\n",
    "\r\n",
    "# 10a Get the data from each row and add it to the formatting template and store the data in a list.\r\n",
    "hotel_info = [info_box_template.format(**row) for index, row in itinerary_df.iterrows()]\r\n",
    "\r\n",
    "# 10b. Get the latitude and longitude from each row and store in a new DataFrame.\r\n",
    "locations = itinerary_df[[\"Lat\", \"Lng\"]]"
   ],
   "outputs": [],
   "metadata": {}
  },
  {
   "cell_type": "code",
   "execution_count": 10,
   "source": [
    "# 11a. Add a marker layer for each city to the map.\n",
    "\n",
    "# 11b. Display the figure\n"
   ],
   "outputs": [],
   "metadata": {}
  },
  {
   "cell_type": "code",
   "execution_count": null,
   "source": [],
   "outputs": [],
   "metadata": {}
  }
 ],
 "metadata": {
  "kernelspec": {
   "name": "python3",
   "display_name": "Python 3.7.11 64-bit ('PythonData': conda)"
  },
  "language_info": {
   "codemirror_mode": {
    "name": "ipython",
    "version": 3
   },
   "file_extension": ".py",
   "mimetype": "text/x-python",
   "name": "python",
   "nbconvert_exporter": "python",
   "pygments_lexer": "ipython3",
   "version": "3.7.11"
  },
  "latex_envs": {
   "LaTeX_envs_menu_present": true,
   "autoclose": false,
   "autocomplete": true,
   "bibliofile": "biblio.bib",
   "cite_by": "apalike",
   "current_citInitial": 1,
   "eqLabelWithNumbers": true,
   "eqNumInitial": 1,
   "hotkeys": {
    "equation": "Ctrl-E",
    "itemize": "Ctrl-I"
   },
   "labels_anchors": false,
   "latex_user_defs": false,
   "report_style_numbering": false,
   "user_envs_cfg": false
  },
  "interpreter": {
   "hash": "31e5de16cd2653dab55601d1a8dbb65d5bfcb5e37c58103bf717bd42fcbdf8d3"
  }
 },
 "nbformat": 4,
 "nbformat_minor": 2
}