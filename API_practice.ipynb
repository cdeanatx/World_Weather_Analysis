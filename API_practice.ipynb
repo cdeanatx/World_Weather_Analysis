{
 "cells": [
  {
   "cell_type": "code",
   "execution_count": 2,
   "source": [
    "# Create a practice set of random latitude and longitude combinations.\r\n",
    "x = [25.12903645, 25.92017388, 26.62509167, -59.98969384, 37.30571269]\r\n",
    "y = [-67.59741259, 11.09532135, 74.84233102, -76.89176677, -61.13376282]\r\n",
    "coordinates = zip(x, y)"
   ],
   "outputs": [],
   "metadata": {}
  },
  {
   "cell_type": "code",
   "execution_count": 3,
   "source": [
    "# Use the citipy module to determine city based on latitude and longitude.\r\n",
    "from citipy import citipy"
   ],
   "outputs": [],
   "metadata": {}
  },
  {
   "cell_type": "code",
   "execution_count": 4,
   "source": [
    "cities = []\r\n",
    "countries = []\r\n",
    "for coord in coordinates:\r\n",
    "    cities.append(citipy.nearest_city(coord[0], coord[1]).city_name)\r\n",
    "    countries.append(citipy.nearest_city(coord[0], coord[1]).country_code)\r\n",
    "print(cities, countries)"
   ],
   "outputs": [
    {
     "output_type": "stream",
     "name": "stdout",
     "text": [
      "['cockburn town', 'gat', 'parvatsar', 'punta arenas', 'saint george'] ['tc', 'ly', 'in', 'cl', 'bm']\n"
     ]
    }
   ],
   "metadata": {}
  },
  {
   "cell_type": "code",
   "execution_count": 5,
   "source": [
    "import requests\r\n",
    "from config import weather_api_key"
   ],
   "outputs": [],
   "metadata": {}
  },
  {
   "cell_type": "code",
   "execution_count": 9,
   "source": [
    "url = 'http://api.openweathermap.org/data/2.5/weather?appid=' + weather_api_key\r\n",
    "units = 'imperial'\r\n",
    "city = 'Boston'\r\n",
    "units_url = '&units=' + units\r\n",
    "city_url = '&q=' + city\r\n",
    "query_url = url + units_url + city_url"
   ],
   "outputs": [],
   "metadata": {}
  },
  {
   "cell_type": "code",
   "execution_count": 24,
   "source": [
    "weather_response = requests.get(query_url)\r\n",
    "weather_json = weather_response.json()\r\n",
    "weather_json"
   ],
   "outputs": [
    {
     "output_type": "execute_result",
     "data": {
      "text/plain": [
       "{'coord': {'lon': -71.0598, 'lat': 42.3584},\n",
       " 'weather': [{'id': 802,\n",
       "   'main': 'Clouds',\n",
       "   'description': 'scattered clouds',\n",
       "   'icon': '03d'}],\n",
       " 'base': 'stations',\n",
       " 'main': {'temp': 70.21,\n",
       "  'feels_like': 69.8,\n",
       "  'temp_min': 65.66,\n",
       "  'temp_max': 73.09,\n",
       "  'pressure': 1010,\n",
       "  'humidity': 61},\n",
       " 'visibility': 10000,\n",
       " 'wind': {'speed': 4, 'deg': 305, 'gust': 17},\n",
       " 'clouds': {'all': 39},\n",
       " 'dt': 1631310997,\n",
       " 'sys': {'type': 2,\n",
       "  'id': 2013408,\n",
       "  'country': 'US',\n",
       "  'sunrise': 1631269155,\n",
       "  'sunset': 1631315001},\n",
       " 'timezone': -14400,\n",
       " 'id': 4930956,\n",
       " 'name': 'Boston',\n",
       " 'cod': 200}"
      ]
     },
     "metadata": {},
     "execution_count": 24
    }
   ],
   "metadata": {}
  },
  {
   "cell_type": "code",
   "execution_count": 26,
   "source": [
    "from datetime import datetime\r\n",
    "boston_data = weather_json\r\n",
    "datetime.utcfromtimestamp(boston_data['dt']).strftime('%Y-%m-%d %H:%M:%S')"
   ],
   "outputs": [
    {
     "output_type": "execute_result",
     "data": {
      "text/plain": [
       "'2021-09-10 21:56:37'"
      ]
     },
     "metadata": {},
     "execution_count": 26
    }
   ],
   "metadata": {}
  }
 ],
 "metadata": {
  "orig_nbformat": 4,
  "language_info": {
   "name": "python",
   "version": "3.9.6",
   "mimetype": "text/x-python",
   "codemirror_mode": {
    "name": "ipython",
    "version": 3
   },
   "pygments_lexer": "ipython3",
   "nbconvert_exporter": "python",
   "file_extension": ".py"
  },
  "kernelspec": {
   "name": "python3",
   "display_name": "Python 3.9.6 64-bit ('PythonMaster': conda)"
  },
  "interpreter": {
   "hash": "8e4c2eecffc4f9cadb15c2b121d59bc479b317acb70154dd7982f16e35836098"
  }
 },
 "nbformat": 4,
 "nbformat_minor": 2
}