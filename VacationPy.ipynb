{
 "cells": [
  {
   "cell_type": "code",
   "execution_count": 3,
   "source": [
    "# import dependencies and API key\r\n",
    "import pandas as pd\r\n",
    "import gmaps\r\n",
    "import requests\r\n",
    "from config import g_key"
   ],
   "outputs": [],
   "metadata": {}
  },
  {
   "cell_type": "code",
   "execution_count": 4,
   "source": [
    "file_to_load = 'weather_data/cities.csv'\r\n",
    "city_data_df = pd.read_csv(file_to_load)\r\n",
    "city_data_df.head()"
   ],
   "outputs": [
    {
     "output_type": "execute_result",
     "data": {
      "text/html": [
       "<div>\n",
       "<style scoped>\n",
       "    .dataframe tbody tr th:only-of-type {\n",
       "        vertical-align: middle;\n",
       "    }\n",
       "\n",
       "    .dataframe tbody tr th {\n",
       "        vertical-align: top;\n",
       "    }\n",
       "\n",
       "    .dataframe thead th {\n",
       "        text-align: right;\n",
       "    }\n",
       "</style>\n",
       "<table border=\"1\" class=\"dataframe\">\n",
       "  <thead>\n",
       "    <tr style=\"text-align: right;\">\n",
       "      <th></th>\n",
       "      <th>City_ID</th>\n",
       "      <th>City</th>\n",
       "      <th>Country</th>\n",
       "      <th>Date</th>\n",
       "      <th>Lat</th>\n",
       "      <th>Lng</th>\n",
       "      <th>Max Temp</th>\n",
       "      <th>Humidity</th>\n",
       "      <th>Cloudiness</th>\n",
       "      <th>Wind Speed</th>\n",
       "    </tr>\n",
       "  </thead>\n",
       "  <tbody>\n",
       "    <tr>\n",
       "      <th>0</th>\n",
       "      <td>0</td>\n",
       "      <td>Kuching</td>\n",
       "      <td>MY</td>\n",
       "      <td>2021-09-11 01:32:57</td>\n",
       "      <td>1.5500</td>\n",
       "      <td>110.3333</td>\n",
       "      <td>80.82</td>\n",
       "      <td>83</td>\n",
       "      <td>20</td>\n",
       "      <td>6.91</td>\n",
       "    </tr>\n",
       "    <tr>\n",
       "      <th>1</th>\n",
       "      <td>1</td>\n",
       "      <td>Sattahip</td>\n",
       "      <td>TH</td>\n",
       "      <td>2021-09-11 01:29:08</td>\n",
       "      <td>12.6664</td>\n",
       "      <td>100.9007</td>\n",
       "      <td>82.49</td>\n",
       "      <td>78</td>\n",
       "      <td>40</td>\n",
       "      <td>5.75</td>\n",
       "    </tr>\n",
       "    <tr>\n",
       "      <th>2</th>\n",
       "      <td>2</td>\n",
       "      <td>Charters Towers</td>\n",
       "      <td>AU</td>\n",
       "      <td>2021-09-11 01:32:58</td>\n",
       "      <td>-20.1000</td>\n",
       "      <td>146.2667</td>\n",
       "      <td>77.05</td>\n",
       "      <td>49</td>\n",
       "      <td>75</td>\n",
       "      <td>16.49</td>\n",
       "    </tr>\n",
       "    <tr>\n",
       "      <th>3</th>\n",
       "      <td>3</td>\n",
       "      <td>Bluff</td>\n",
       "      <td>NZ</td>\n",
       "      <td>2021-09-11 01:32:58</td>\n",
       "      <td>-46.6000</td>\n",
       "      <td>168.3333</td>\n",
       "      <td>44.80</td>\n",
       "      <td>68</td>\n",
       "      <td>90</td>\n",
       "      <td>19.80</td>\n",
       "    </tr>\n",
       "    <tr>\n",
       "      <th>4</th>\n",
       "      <td>4</td>\n",
       "      <td>Ushuaia</td>\n",
       "      <td>AR</td>\n",
       "      <td>2021-09-11 01:30:44</td>\n",
       "      <td>-54.8000</td>\n",
       "      <td>-68.3000</td>\n",
       "      <td>37.06</td>\n",
       "      <td>81</td>\n",
       "      <td>20</td>\n",
       "      <td>0.00</td>\n",
       "    </tr>\n",
       "  </tbody>\n",
       "</table>\n",
       "</div>"
      ],
      "text/plain": [
       "   City_ID             City Country                 Date      Lat       Lng  \\\n",
       "0        0          Kuching      MY  2021-09-11 01:32:57   1.5500  110.3333   \n",
       "1        1         Sattahip      TH  2021-09-11 01:29:08  12.6664  100.9007   \n",
       "2        2  Charters Towers      AU  2021-09-11 01:32:58 -20.1000  146.2667   \n",
       "3        3            Bluff      NZ  2021-09-11 01:32:58 -46.6000  168.3333   \n",
       "4        4          Ushuaia      AR  2021-09-11 01:30:44 -54.8000  -68.3000   \n",
       "\n",
       "   Max Temp  Humidity  Cloudiness  Wind Speed  \n",
       "0     80.82        83          20        6.91  \n",
       "1     82.49        78          40        5.75  \n",
       "2     77.05        49          75       16.49  \n",
       "3     44.80        68          90       19.80  \n",
       "4     37.06        81          20        0.00  "
      ]
     },
     "metadata": {},
     "execution_count": 4
    }
   ],
   "metadata": {}
  },
  {
   "cell_type": "code",
   "execution_count": 5,
   "source": [
    "city_data_df.dtypes"
   ],
   "outputs": [
    {
     "output_type": "execute_result",
     "data": {
      "text/plain": [
       "City_ID         int64\n",
       "City           object\n",
       "Country        object\n",
       "Date           object\n",
       "Lat           float64\n",
       "Lng           float64\n",
       "Max Temp      float64\n",
       "Humidity        int64\n",
       "Cloudiness      int64\n",
       "Wind Speed    float64\n",
       "dtype: object"
      ]
     },
     "metadata": {},
     "execution_count": 5
    }
   ],
   "metadata": {}
  },
  {
   "cell_type": "code",
   "execution_count": 6,
   "source": [
    "gmaps.configure(api_key=g_key)"
   ],
   "outputs": [],
   "metadata": {}
  },
  {
   "cell_type": "code",
   "execution_count": 25,
   "source": [
    "# Heatmap of temperature\r\n",
    "# Get lat and lng\r\n",
    "locations = city_data_df[['Lat', 'Lng']]\r\n",
    "# Get max temp\r\n",
    "temperatures = city_data_df['Max Temp']\r\n",
    "# Create the figure\r\n",
    "fig = gmaps.figure(center=(30.0, 31.0), zoom_level=2.0, layout={'height': '700px', 'width': '1100px'})\r\n",
    "# Assign the heatmap layer\r\n",
    "heatmap_layer = gmaps.heatmap_layer(locations, weights=[max(temp, 0) for temp in city_data_df['Max Temp']], dissipating=False, max_intensity=300, point_radius=4)\r\n",
    "\r\n",
    "# Add the heatmap layer\r\n",
    "fig.add_layer(heatmap_layer)\r\n",
    "fig"
   ],
   "outputs": [
    {
     "output_type": "display_data",
     "data": {
      "application/vnd.jupyter.widget-view+json": {
       "version_major": 2,
       "version_minor": 0,
       "model_id": "4ce92f70065e4874832d8bf9e94913a9"
      },
      "text/plain": [
       "Figure(layout=FigureLayout(height='700px', width='1100px'))"
      ]
     },
     "metadata": {}
    }
   ],
   "metadata": {}
  },
  {
   "cell_type": "code",
   "execution_count": 26,
   "source": [
    "# Heatmap of percent humidity\r\n",
    "fig = gmaps.figure(center=(30.0, 31.0), zoom_level=2.0, layout={'height': '700px', 'width': '1100px'})\r\n",
    "# Assign the heatmap layer\r\n",
    "heatmap_layer = gmaps.heatmap_layer(city_data_df[['Lat', 'Lng']], weights=city_data_df['Humidity'], dissipating=False, max_intensity=300, point_radius=4)\r\n",
    "\r\n",
    "# Add the heatmap layer\r\n",
    "fig.add_layer(heatmap_layer)\r\n",
    "fig"
   ],
   "outputs": [
    {
     "output_type": "display_data",
     "data": {
      "application/vnd.jupyter.widget-view+json": {
       "version_major": 2,
       "version_minor": 0,
       "model_id": "db1e103b543a49f3a10ed7e7ce00308e"
      },
      "text/plain": [
       "Figure(layout=FigureLayout(height='700px', width='1100px'))"
      ]
     },
     "metadata": {}
    }
   ],
   "metadata": {}
  },
  {
   "cell_type": "code",
   "execution_count": 27,
   "source": [
    "# Heatmap of percent cloudiness\r\n",
    "fig = gmaps.figure(center=(30.0, 31.0), zoom_level=2.0, layout={'height': '700px', 'width': '1100px'})\r\n",
    "# Assign the heatmap layer\r\n",
    "heatmap_layer = gmaps.heatmap_layer(city_data_df[['Lat', 'Lng']], weights=city_data_df['Cloudiness'], dissipating=False, max_intensity=300, point_radius=4)\r\n",
    "\r\n",
    "# Add the heatmap layer\r\n",
    "fig.add_layer(heatmap_layer)\r\n",
    "fig"
   ],
   "outputs": [
    {
     "output_type": "display_data",
     "data": {
      "application/vnd.jupyter.widget-view+json": {
       "version_major": 2,
       "version_minor": 0,
       "model_id": "7b9d2dcb5cc848ac8d7d4492ed899499"
      },
      "text/plain": [
       "Figure(layout=FigureLayout(height='700px', width='1100px'))"
      ]
     },
     "metadata": {}
    }
   ],
   "metadata": {}
  },
  {
   "cell_type": "code",
   "execution_count": 28,
   "source": [
    "# Heatmap of Wind Speed\r\n",
    "fig = gmaps.figure(center=(30.0, 31.0), zoom_level=2.0, layout={'height': '700px', 'width': '1100px'})\r\n",
    "# Assign the heatmap layer\r\n",
    "heatmap_layer = gmaps.heatmap_layer(city_data_df[['Lat', 'Lng']], weights=city_data_df['Wind Speed'], dissipating=False, max_intensity=300, point_radius=4)\r\n",
    "\r\n",
    "# Add the heatmap layer\r\n",
    "fig.add_layer(heatmap_layer)\r\n",
    "fig"
   ],
   "outputs": [
    {
     "output_type": "display_data",
     "data": {
      "application/vnd.jupyter.widget-view+json": {
       "version_major": 2,
       "version_minor": 0,
       "model_id": "19702da2dc1449f3a04766228623174b"
      },
      "text/plain": [
       "Figure(layout=FigureLayout(height='700px', width='1100px'))"
      ]
     },
     "metadata": {}
    }
   ],
   "metadata": {}
  },
  {
   "cell_type": "code",
   "execution_count": 29,
   "source": [
    "min_temp = float(input('What is the minimum temperature you would like for your trip? '))\r\n",
    "max_temp = float(input('What is the maximum temperature you would like for your trip? '))"
   ],
   "outputs": [],
   "metadata": {}
  },
  {
   "cell_type": "code",
   "execution_count": 31,
   "source": [
    "preferred_cities_df = city_data_df.loc[(city_data_df['Max Temp'] >= min_temp) & (city_data_df['Max Temp'] <= max_temp)]\r\n",
    "preferred_cities_df.head()"
   ],
   "outputs": [
    {
     "output_type": "execute_result",
     "data": {
      "text/html": [
       "<div>\n",
       "<style scoped>\n",
       "    .dataframe tbody tr th:only-of-type {\n",
       "        vertical-align: middle;\n",
       "    }\n",
       "\n",
       "    .dataframe tbody tr th {\n",
       "        vertical-align: top;\n",
       "    }\n",
       "\n",
       "    .dataframe thead th {\n",
       "        text-align: right;\n",
       "    }\n",
       "</style>\n",
       "<table border=\"1\" class=\"dataframe\">\n",
       "  <thead>\n",
       "    <tr style=\"text-align: right;\">\n",
       "      <th></th>\n",
       "      <th>City_ID</th>\n",
       "      <th>City</th>\n",
       "      <th>Country</th>\n",
       "      <th>Date</th>\n",
       "      <th>Lat</th>\n",
       "      <th>Lng</th>\n",
       "      <th>Max Temp</th>\n",
       "      <th>Humidity</th>\n",
       "      <th>Cloudiness</th>\n",
       "      <th>Wind Speed</th>\n",
       "    </tr>\n",
       "  </thead>\n",
       "  <tbody>\n",
       "    <tr>\n",
       "      <th>0</th>\n",
       "      <td>0</td>\n",
       "      <td>Kuching</td>\n",
       "      <td>MY</td>\n",
       "      <td>2021-09-11 01:32:57</td>\n",
       "      <td>1.5500</td>\n",
       "      <td>110.3333</td>\n",
       "      <td>80.82</td>\n",
       "      <td>83</td>\n",
       "      <td>20</td>\n",
       "      <td>6.91</td>\n",
       "    </tr>\n",
       "    <tr>\n",
       "      <th>1</th>\n",
       "      <td>1</td>\n",
       "      <td>Sattahip</td>\n",
       "      <td>TH</td>\n",
       "      <td>2021-09-11 01:29:08</td>\n",
       "      <td>12.6664</td>\n",
       "      <td>100.9007</td>\n",
       "      <td>82.49</td>\n",
       "      <td>78</td>\n",
       "      <td>40</td>\n",
       "      <td>5.75</td>\n",
       "    </tr>\n",
       "    <tr>\n",
       "      <th>2</th>\n",
       "      <td>2</td>\n",
       "      <td>Charters Towers</td>\n",
       "      <td>AU</td>\n",
       "      <td>2021-09-11 01:32:58</td>\n",
       "      <td>-20.1000</td>\n",
       "      <td>146.2667</td>\n",
       "      <td>77.05</td>\n",
       "      <td>49</td>\n",
       "      <td>75</td>\n",
       "      <td>16.49</td>\n",
       "    </tr>\n",
       "    <tr>\n",
       "      <th>6</th>\n",
       "      <td>6</td>\n",
       "      <td>Kapaa</td>\n",
       "      <td>US</td>\n",
       "      <td>2021-09-11 01:32:59</td>\n",
       "      <td>22.0752</td>\n",
       "      <td>-159.3190</td>\n",
       "      <td>84.52</td>\n",
       "      <td>68</td>\n",
       "      <td>20</td>\n",
       "      <td>5.01</td>\n",
       "    </tr>\n",
       "    <tr>\n",
       "      <th>7</th>\n",
       "      <td>7</td>\n",
       "      <td>Vaini</td>\n",
       "      <td>TO</td>\n",
       "      <td>2021-09-11 01:32:59</td>\n",
       "      <td>-21.2000</td>\n",
       "      <td>-175.2000</td>\n",
       "      <td>78.96</td>\n",
       "      <td>78</td>\n",
       "      <td>20</td>\n",
       "      <td>6.91</td>\n",
       "    </tr>\n",
       "  </tbody>\n",
       "</table>\n",
       "</div>"
      ],
      "text/plain": [
       "   City_ID             City Country                 Date      Lat       Lng  \\\n",
       "0        0          Kuching      MY  2021-09-11 01:32:57   1.5500  110.3333   \n",
       "1        1         Sattahip      TH  2021-09-11 01:29:08  12.6664  100.9007   \n",
       "2        2  Charters Towers      AU  2021-09-11 01:32:58 -20.1000  146.2667   \n",
       "6        6            Kapaa      US  2021-09-11 01:32:59  22.0752 -159.3190   \n",
       "7        7            Vaini      TO  2021-09-11 01:32:59 -21.2000 -175.2000   \n",
       "\n",
       "   Max Temp  Humidity  Cloudiness  Wind Speed  \n",
       "0     80.82        83          20        6.91  \n",
       "1     82.49        78          40        5.75  \n",
       "2     77.05        49          75       16.49  \n",
       "6     84.52        68          20        5.01  \n",
       "7     78.96        78          20        6.91  "
      ]
     },
     "metadata": {},
     "execution_count": 31
    }
   ],
   "metadata": {}
  },
  {
   "cell_type": "code",
   "execution_count": 32,
   "source": [
    "preferred_cities_df.count()"
   ],
   "outputs": [
    {
     "output_type": "execute_result",
     "data": {
      "text/plain": [
       "City_ID       175\n",
       "City          175\n",
       "Country       175\n",
       "Date          175\n",
       "Lat           175\n",
       "Lng           175\n",
       "Max Temp      175\n",
       "Humidity      175\n",
       "Cloudiness    175\n",
       "Wind Speed    175\n",
       "dtype: int64"
      ]
     },
     "metadata": {},
     "execution_count": 32
    }
   ],
   "metadata": {}
  },
  {
   "cell_type": "code",
   "execution_count": 33,
   "source": [
    "hotel_df = preferred_cities_df[['City', 'Country', 'Max Temp', 'Lat', 'Lng',]].copy()\r\n",
    "hotel_df['Hotel'] = \"\"\r\n",
    "hotel_df.head()"
   ],
   "outputs": [
    {
     "output_type": "execute_result",
     "data": {
      "text/html": [
       "<div>\n",
       "<style scoped>\n",
       "    .dataframe tbody tr th:only-of-type {\n",
       "        vertical-align: middle;\n",
       "    }\n",
       "\n",
       "    .dataframe tbody tr th {\n",
       "        vertical-align: top;\n",
       "    }\n",
       "\n",
       "    .dataframe thead th {\n",
       "        text-align: right;\n",
       "    }\n",
       "</style>\n",
       "<table border=\"1\" class=\"dataframe\">\n",
       "  <thead>\n",
       "    <tr style=\"text-align: right;\">\n",
       "      <th></th>\n",
       "      <th>City</th>\n",
       "      <th>Country</th>\n",
       "      <th>Max Temp</th>\n",
       "      <th>Lat</th>\n",
       "      <th>Lng</th>\n",
       "      <th>Hotel</th>\n",
       "    </tr>\n",
       "  </thead>\n",
       "  <tbody>\n",
       "    <tr>\n",
       "      <th>0</th>\n",
       "      <td>Kuching</td>\n",
       "      <td>MY</td>\n",
       "      <td>80.82</td>\n",
       "      <td>1.5500</td>\n",
       "      <td>110.3333</td>\n",
       "      <td></td>\n",
       "    </tr>\n",
       "    <tr>\n",
       "      <th>1</th>\n",
       "      <td>Sattahip</td>\n",
       "      <td>TH</td>\n",
       "      <td>82.49</td>\n",
       "      <td>12.6664</td>\n",
       "      <td>100.9007</td>\n",
       "      <td></td>\n",
       "    </tr>\n",
       "    <tr>\n",
       "      <th>2</th>\n",
       "      <td>Charters Towers</td>\n",
       "      <td>AU</td>\n",
       "      <td>77.05</td>\n",
       "      <td>-20.1000</td>\n",
       "      <td>146.2667</td>\n",
       "      <td></td>\n",
       "    </tr>\n",
       "    <tr>\n",
       "      <th>6</th>\n",
       "      <td>Kapaa</td>\n",
       "      <td>US</td>\n",
       "      <td>84.52</td>\n",
       "      <td>22.0752</td>\n",
       "      <td>-159.3190</td>\n",
       "      <td></td>\n",
       "    </tr>\n",
       "    <tr>\n",
       "      <th>7</th>\n",
       "      <td>Vaini</td>\n",
       "      <td>TO</td>\n",
       "      <td>78.96</td>\n",
       "      <td>-21.2000</td>\n",
       "      <td>-175.2000</td>\n",
       "      <td></td>\n",
       "    </tr>\n",
       "  </tbody>\n",
       "</table>\n",
       "</div>"
      ],
      "text/plain": [
       "              City Country  Max Temp      Lat       Lng Hotel\n",
       "0          Kuching      MY     80.82   1.5500  110.3333      \n",
       "1         Sattahip      TH     82.49  12.6664  100.9007      \n",
       "2  Charters Towers      AU     77.05 -20.1000  146.2667      \n",
       "6            Kapaa      US     84.52  22.0752 -159.3190      \n",
       "7            Vaini      TO     78.96 -21.2000 -175.2000      "
      ]
     },
     "metadata": {},
     "execution_count": 33
    }
   ],
   "metadata": {}
  },
  {
   "cell_type": "code",
   "execution_count": 36,
   "source": [
    "import requests\r\n",
    "# Set params to search for a hotel\r\n",
    "params = {\r\n",
    "    'radius': 5000,\r\n",
    "    'key': g_key,\r\n",
    "    'type': 'lodging'\r\n",
    "}\r\n",
    "for index, row in hotel_df.iterrows():\r\n",
    "    lat = row['Lat']\r\n",
    "    lng = row['Lng']\r\n",
    "\r\n",
    "    params['location'] = f'{lat},{lng}'\r\n",
    "\r\n",
    "    base_url = 'https://maps.googleapis.com/maps/api/place/nearbysearch/json'\r\n",
    "\r\n",
    "    try:\r\n",
    "        hotels = requests.get(base_url, params=params).json()\r\n",
    "        hotel_df.loc[index, 'Hotel'] = hotels['results'][0]['name']\r\n",
    "    except:\r\n",
    "        print('Hotel not found. Skipping...')\r\n",
    "        continue"
   ],
   "outputs": [
    {
     "output_type": "stream",
     "name": "stdout",
     "text": [
      "Hotel not found. Skipping...\n",
      "Hotel not found. Skipping...\n",
      "Hotel not found. Skipping...\n",
      "Hotel not found. Skipping...\n",
      "Hotel not found. Skipping...\n",
      "Hotel not found. Skipping...\n",
      "Hotel not found. Skipping...\n",
      "Hotel not found. Skipping...\n",
      "Hotel not found. Skipping...\n",
      "Hotel not found. Skipping...\n",
      "Hotel not found. Skipping...\n",
      "Hotel not found. Skipping...\n",
      "Hotel not found. Skipping...\n"
     ]
    }
   ],
   "metadata": {}
  },
  {
   "cell_type": "code",
   "execution_count": 37,
   "source": [
    "hotel_df.head(10)"
   ],
   "outputs": [
    {
     "output_type": "execute_result",
     "data": {
      "text/html": [
       "<div>\n",
       "<style scoped>\n",
       "    .dataframe tbody tr th:only-of-type {\n",
       "        vertical-align: middle;\n",
       "    }\n",
       "\n",
       "    .dataframe tbody tr th {\n",
       "        vertical-align: top;\n",
       "    }\n",
       "\n",
       "    .dataframe thead th {\n",
       "        text-align: right;\n",
       "    }\n",
       "</style>\n",
       "<table border=\"1\" class=\"dataframe\">\n",
       "  <thead>\n",
       "    <tr style=\"text-align: right;\">\n",
       "      <th></th>\n",
       "      <th>City</th>\n",
       "      <th>Country</th>\n",
       "      <th>Max Temp</th>\n",
       "      <th>Lat</th>\n",
       "      <th>Lng</th>\n",
       "      <th>Hotel</th>\n",
       "    </tr>\n",
       "  </thead>\n",
       "  <tbody>\n",
       "    <tr>\n",
       "      <th>0</th>\n",
       "      <td>Kuching</td>\n",
       "      <td>MY</td>\n",
       "      <td>80.82</td>\n",
       "      <td>1.5500</td>\n",
       "      <td>110.3333</td>\n",
       "      <td>The Ranee Boutique Suites</td>\n",
       "    </tr>\n",
       "    <tr>\n",
       "      <th>1</th>\n",
       "      <td>Sattahip</td>\n",
       "      <td>TH</td>\n",
       "      <td>82.49</td>\n",
       "      <td>12.6664</td>\n",
       "      <td>100.9007</td>\n",
       "      <td>Pob Choke Residences ( พบโชคเรดซิเด้นท์ )</td>\n",
       "    </tr>\n",
       "    <tr>\n",
       "      <th>2</th>\n",
       "      <td>Charters Towers</td>\n",
       "      <td>AU</td>\n",
       "      <td>77.05</td>\n",
       "      <td>-20.1000</td>\n",
       "      <td>146.2667</td>\n",
       "      <td>Cattleman's Rest Motor Inn</td>\n",
       "    </tr>\n",
       "    <tr>\n",
       "      <th>6</th>\n",
       "      <td>Kapaa</td>\n",
       "      <td>US</td>\n",
       "      <td>84.52</td>\n",
       "      <td>22.0752</td>\n",
       "      <td>-159.3190</td>\n",
       "      <td>Sheraton Kauai Coconut Beach Resort</td>\n",
       "    </tr>\n",
       "    <tr>\n",
       "      <th>7</th>\n",
       "      <td>Vaini</td>\n",
       "      <td>TO</td>\n",
       "      <td>78.96</td>\n",
       "      <td>-21.2000</td>\n",
       "      <td>-175.2000</td>\n",
       "      <td>Keleti Beach Resort</td>\n",
       "    </tr>\n",
       "    <tr>\n",
       "      <th>8</th>\n",
       "      <td>Yantai</td>\n",
       "      <td>CN</td>\n",
       "      <td>78.62</td>\n",
       "      <td>37.5333</td>\n",
       "      <td>121.4000</td>\n",
       "      <td>Yantai Seaside International Youth Hostel</td>\n",
       "    </tr>\n",
       "    <tr>\n",
       "      <th>9</th>\n",
       "      <td>Port Macquarie</td>\n",
       "      <td>AU</td>\n",
       "      <td>78.76</td>\n",
       "      <td>-31.4333</td>\n",
       "      <td>152.9167</td>\n",
       "      <td>Rydges Port Macquarie</td>\n",
       "    </tr>\n",
       "    <tr>\n",
       "      <th>17</th>\n",
       "      <td>Karratha</td>\n",
       "      <td>AU</td>\n",
       "      <td>86.00</td>\n",
       "      <td>-20.7377</td>\n",
       "      <td>116.8463</td>\n",
       "      <td>ibis Styles Karratha</td>\n",
       "    </tr>\n",
       "    <tr>\n",
       "      <th>20</th>\n",
       "      <td>Mackay</td>\n",
       "      <td>AU</td>\n",
       "      <td>77.04</td>\n",
       "      <td>-21.1500</td>\n",
       "      <td>149.2000</td>\n",
       "      <td>International Lodge Motel</td>\n",
       "    </tr>\n",
       "    <tr>\n",
       "      <th>21</th>\n",
       "      <td>Avarua</td>\n",
       "      <td>CK</td>\n",
       "      <td>80.65</td>\n",
       "      <td>-21.2078</td>\n",
       "      <td>-159.7750</td>\n",
       "      <td>Paradise Inn</td>\n",
       "    </tr>\n",
       "  </tbody>\n",
       "</table>\n",
       "</div>"
      ],
      "text/plain": [
       "               City Country  Max Temp      Lat       Lng  \\\n",
       "0           Kuching      MY     80.82   1.5500  110.3333   \n",
       "1          Sattahip      TH     82.49  12.6664  100.9007   \n",
       "2   Charters Towers      AU     77.05 -20.1000  146.2667   \n",
       "6             Kapaa      US     84.52  22.0752 -159.3190   \n",
       "7             Vaini      TO     78.96 -21.2000 -175.2000   \n",
       "8            Yantai      CN     78.62  37.5333  121.4000   \n",
       "9    Port Macquarie      AU     78.76 -31.4333  152.9167   \n",
       "17         Karratha      AU     86.00 -20.7377  116.8463   \n",
       "20           Mackay      AU     77.04 -21.1500  149.2000   \n",
       "21           Avarua      CK     80.65 -21.2078 -159.7750   \n",
       "\n",
       "                                        Hotel  \n",
       "0                   The Ranee Boutique Suites  \n",
       "1   Pob Choke Residences ( พบโชคเรดซิเด้นท์ )  \n",
       "2                  Cattleman's Rest Motor Inn  \n",
       "6         Sheraton Kauai Coconut Beach Resort  \n",
       "7                         Keleti Beach Resort  \n",
       "8   Yantai Seaside International Youth Hostel  \n",
       "9                       Rydges Port Macquarie  \n",
       "17                       ibis Styles Karratha  \n",
       "20                  International Lodge Motel  \n",
       "21                               Paradise Inn  "
      ]
     },
     "metadata": {},
     "execution_count": 37
    }
   ],
   "metadata": {}
  },
  {
   "cell_type": "code",
   "execution_count": 41,
   "source": [
    "info_box_template = \"\"\"\r\n",
    "<dl>\r\n",
    "<dt>Hotel Name</dt><dd>{Hotel}</dd>\r\n",
    "<dt>City</dt><dd>{City}</dd>\r\n",
    "<dt>Country</dt><dd>{Country}</dd>\r\n",
    "<dt>Max Temp</dt><dd>{Max Temp} °F</dd>\r\n",
    "</dl>\r\n",
    "\"\"\""
   ],
   "outputs": [],
   "metadata": {}
  },
  {
   "cell_type": "code",
   "execution_count": 43,
   "source": [
    "locations = hotel_df[['Lat', 'Lng']]\r\n",
    "max_temp = hotel_df['Max Temp']\r\n",
    "hotel_info = [info_box_template.format(**row) for index, row in hotel_df.iterrows()]\r\n",
    "fig = gmaps.figure(center=(20.0, 31.0), zoom_level=2.0, layout={'height': '700px', 'width': '1100px'})\r\n",
    "heat_layer = gmaps.heatmap_layer(locations, weights=max_temp, dissipating=False, max_intensity=300, point_radius=4)\r\n",
    "marker_layer = gmaps.marker_layer(locations, info_box_content=hotel_info)\r\n",
    "fig.add_layer(heat_layer)\r\n",
    "fig.add_layer(marker_layer)\r\n",
    "fig"
   ],
   "outputs": [
    {
     "output_type": "display_data",
     "data": {
      "application/vnd.jupyter.widget-view+json": {
       "version_major": 2,
       "version_minor": 0,
       "model_id": "c9b5243727cd4fc7b24fbdf0f584dd12"
      },
      "text/plain": [
       "Figure(layout=FigureLayout(height='700px', width='1100px'))"
      ]
     },
     "metadata": {}
    }
   ],
   "metadata": {}
  }
 ],
 "metadata": {
  "orig_nbformat": 4,
  "language_info": {
   "name": "python",
   "version": "3.9.6",
   "mimetype": "text/x-python",
   "codemirror_mode": {
    "name": "ipython",
    "version": 3
   },
   "pygments_lexer": "ipython3",
   "nbconvert_exporter": "python",
   "file_extension": ".py"
  },
  "kernelspec": {
   "name": "python3",
   "display_name": "Python 3.9.6 64-bit ('PythonMaster': conda)"
  },
  "interpreter": {
   "hash": "8e4c2eecffc4f9cadb15c2b121d59bc479b317acb70154dd7982f16e35836098"
  }
 },
 "nbformat": 4,
 "nbformat_minor": 2
}